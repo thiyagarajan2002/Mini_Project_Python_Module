{
  "nbformat": 4,
  "nbformat_minor": 0,
  "metadata": {
    "colab": {
      "name": "Mini_Project.ipynb",
      "provenance": [],
      "authorship_tag": "ABX9TyMeW6Qw/7dR/XPmauX5Qt3d",
      "include_colab_link": true
    },
    "kernelspec": {
      "name": "python3",
      "display_name": "Python 3"
    },
    "language_info": {
      "name": "python"
    }
  },
  "cells": [
    {
      "cell_type": "markdown",
      "metadata": {
        "id": "view-in-github",
        "colab_type": "text"
      },
      "source": [
        "<a href=\"https://colab.research.google.com/github/thiyagarajan2002/Mini_Project_Python_Module/blob/main/Mini_Project.ipynb\" target=\"_parent\"><img src=\"https://colab.research.google.com/assets/colab-badge.svg\" alt=\"Open In Colab\"/></a>"
      ]
    },
    {
      "cell_type": "code",
      "metadata": {
        "colab": {
          "base_uri": "https://localhost:8080/"
        },
        "id": "sUD0dFH8yt8v",
        "outputId": "5fe94825-7a32-45c4-b20f-697af56d6ed0"
      },
      "source": [
        "from pystringmini import *\n",
        "string=\"Hello Hai\"\n",
        "print(uppercase(string))\n",
        "print(lowercase(string))\n",
        "print(capitalize(string))\n",
        "print(length(string))\n",
        "print(digit(string))\n",
        "print(minimum(string))\n",
        "print(maximum(string))\n",
        "print(replace(string,'Hai','Everyone'))\n",
        "print(encryption(string))\n",
        "print(decryption(string))\n",
        "print(split(string))\n",
        "print(help())\n",
        "print(about())"
      ],
      "execution_count": 2,
      "outputs": [
        {
          "output_type": "stream",
          "name": "stdout",
          "text": [
            "HELLO HAI\n",
            "hello hai\n",
            "Hello Hai\n",
            "9\n",
            "False\n",
            " \n",
            "o\n",
            "Hello Everyone \n",
            "Khoor Kdl\n",
            "Ebiil Exf\n",
            "['Hello', 'Hai']\n",
            "https://github.com/thiyagarajan2002/Pystringmini/blob/main/Documents\n",
            "Create by Thiyagarajan V\n",
            "trj08012002@gmail.com\n",
            "Thank You\n"
          ]
        }
      ]
    },
    {
      "cell_type": "code",
      "metadata": {
        "colab": {
          "base_uri": "https://localhost:8080/"
        },
        "id": "UyrasBkJyvgi",
        "outputId": "4fb37685-258f-4c17-b639-7d27ef3ca100"
      },
      "source": [
        "pip install Pystringmini"
      ],
      "execution_count": 1,
      "outputs": [
        {
          "output_type": "stream",
          "name": "stdout",
          "text": [
            "Collecting Pystringmini\n",
            "  Downloading Pystringmini-3.0.6-py3-none-any.whl (5.4 kB)\n",
            "Installing collected packages: Pystringmini\n",
            "Successfully installed Pystringmini-3.0.6\n"
          ]
        }
      ]
    }
  ]
}